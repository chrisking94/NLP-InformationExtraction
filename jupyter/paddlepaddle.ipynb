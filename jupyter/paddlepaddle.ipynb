{
 "cells": [
  {
   "cell_type": "code",
   "execution_count": 3,
   "metadata": {},
   "outputs": [],
   "source": [
    "import paddlehub as hub"
   ]
  },
  {
   "cell_type": "code",
   "execution_count": 6,
   "metadata": {},
   "outputs": [],
   "source": [
    "kdml = \"\"\"因临修试运行需求，昆明车辆段申请，CRH380A-2901动车组在昆明局集团公司昆明南站至曲靖北\n",
    "站间试运行一往返，试运行结束后入昆明动车所，具体安排如下（由动车所三场发车）:\n",
    "    1.2019年12月02日，在昆明南站至曲靖北站间试运行，经昆明南沪昆场、小团山线路所、嵩明、\n",
    "曲靖北运行。\n",
    "    2.列车编组：CRH380A-2901动车组，编组8辆，全长203m，总重406.9t。\n",
    "    3.试运行交路：0G55302—G55302—G55301—0G55301。\n",
    "    4.乘务担当：动车组司机由昆明局集团公司担当，随车机械师由昆明局集团公司担当。\n",
    "    5.车底交路及运行时刻：0G55302（动车所三场20:50开，昆明南沪昆场3道21:04到）－G55302\n",
    "（昆明南沪昆场3道21:28开，曲靖北3道22:25到）－G55301（曲靖北3道22:45开，昆明南沪昆场8\n",
    "道23:45到）－0G55301（昆明南沪昆场8道23:59开，昆明动车所00:13到）。遇抵触由调度调整。\n",
    "    6.试运行技术要求：按《昆明局集团公司车辆部关于重新公布动车组试运行方案的通知（车辆函\n",
    "〔2018〕74号）》文件要求执行。\n",
    "    7.未尽事宜按<昆明铁路局关于重新印发《昆明铁路局动车组试运行管理办法》的通知（昆铁辆〔\n",
    "2017〕102号）>、《昆明局集团公司车辆部关于重新公布动车组试运行方案的通知（车辆函〔201\n",
    "8〕74号）》及相关文件电报要求执行。\n",
    "\"\"\""
   ]
  },
  {
   "cell_type": "code",
   "execution_count": 10,
   "metadata": {},
   "outputs": [
    {
     "name": "stderr",
     "output_type": "stream",
     "text": [
      "[2020-04-20 15:46:48,197] [    INFO] - Installing lac module\n",
      "[2020-04-20 15:46:48,200] [    INFO] - Module lac already installed in C:\\Users\\xinxin\\.paddlehub\\modules\\lac\n"
     ]
    },
    {
     "name": "stdout",
     "output_type": "stream",
     "text": [
      "因<p>  临修<vn>  试运行<vn>  需求<n>  ，<w>  昆明<LOC>  车辆段<n>  申请<v>  ，<w>  CRH380A-2901动车组<nz>  在<p>  昆明局集团公司<ORG>  昆明南站<LOC>  至<v>  曲靖北\n",
      "站<LOC>  间<f>  试<v>  运行<v>  一<m>  往返<vn>  ，<w>  试运行<vn>  结束<v>  后<f>  入<v>  昆明动车所<ORG>  ，<w>  具体<ad>  安排<v>  如下<v>  （<w>  由<p>  动车<n>  所<u>  三场<m>  发车<vn>  ）<w>  :<w>  \n",
      "<v>      <v>  1<m>  .<w>  2019年12月02日<TIME>  ，<w>  在<p>  昆明南站<LOC>  至<v>  曲靖北站<LOC>  间<f>  试运行<v>  ，<w>  经<p>  昆明<LOC>  南沪<LOC>  昆场<LOC>  、<w>  小团山<LOC>  线路<n>  所<u>  、<w>  嵩明<LOC>  、<w>  \n",
      "<v>  曲靖北<LOC>  运行<v>  。<w>  \n",
      "<v>      <v>  2<m>  .<w>  列车<n>  编组<vn>  ：<w>  CRH380A-2901动车组<nz>  ，<w>  编组<v>  8辆<m>  ，<w>  全长<n>  203m<m>  ，<w>  总<a>  重<q>  406.9t。\n",
      "<m>      <v>  3<m>  .<w>  试运行<vn>  交路<n>  ：<w>  0G55302<m>  —<w>  G55302<nz>  —<w>  G55301—0G55301。\n",
      "<nz>      <v>  4<m>  .<w>  乘务<n>  担当<vn>  ：<w>  动车组<n>  司机<n>  由<p>  昆明局集团公司<ORG>  担当<v>  ，<w>  随<p>  车<n>  机械师<n>  由<p>  昆明局集团公司<ORG>  担当<v>  。<w>  \n",
      "<v>      <v>  5<m>  .<w>  车底<n>  交路<n>  及<c>  运行<vn>  时刻<n>  ：<w>  0G55302<nz>  （<w>  动车<n>  所<u>  三场<m>  20:50<TIME>  开<v>  ，<w>  昆明<LOC>  南沪<LOC>  昆场<LOC>  3道<m>  21:04<TIME>  到<v>  ）<w>  －<w>  G55302\n",
      "<nz>  （<w>  昆明<LOC>  南沪<LOC>  昆场<LOC>  3道<m>  21:28<TIME>  开<v>  ，<w>  曲靖北<LOC>  3道<m>  22:25<TIME>  到<v>  ）<w>  －<w>  G55301<nz>  （<w>  曲靖北<LOC>  3道<m>  22:45<TIME>  开<v>  ，<w>  昆明<LOC>  南沪<LOC>  昆场<LOC>  8\n",
      "道<m>  23:45<TIME>  到<v>  ）<w>  －<w>  0G55301<nz>  （<w>  昆明<LOC>  南沪<LOC>  昆场<LOC>  8道<m>  23:59<TIME>  开<v>  ，<w>  昆明<LOC>  动车<n>  所<u>  00:13<TIME>  到<v>  ）<w>  。<w>  遇<v>  抵触<vn>  由<p>  调度<vn>  调整<vn>  。<w>  \n",
      "<v>      <v>  6<m>  .<w>  试运行<vn>  技术<n>  要求<n>  ：<w>  按<p>  《昆明局集团公司车辆部<ORG>  关于<p>  重新<d>  公布<v>  动车组<n>  试运行<vn>  方案<n>  的<u>  通知<n>  （<w>  车辆<n>  函<n>  \n",
      "<v>  〔<w>  2018<m>  〕<w>  74号<m>  ）<w>  》<w>  文件<n>  要求<n>  执行<v>  。<w>  \n",
      "<n>   <w>   <w>   <w>   <w>  7<m>  .<w>  未尽<v>  事宜<n>  按<p>  <<w>  昆明铁路局<ORG>  关于<p>  重新<d>  印发<v>  《<w>  昆明铁路局<ORG>  动车<n>  组<n>  试运行<vn>  管理<vn>  办法<n>  》<w>  的<u>  通知<n>  （<w>  昆铁辆<nt>  〔<w>  \n",
      "2017<nz>  〕<w>  102号<m>  ）<w>  ><w>  、<w>  《昆明局集团公司车辆部<ORG>  关于<p>  重新<d>  公布<v>  动车组<n>  试运行<vn>  方案<n>  的<u>  通知<n>  （<w>  车辆<n>  函<n>  〔<w>  201\n",
      "<m>  8<m>  〕<w>  74号<m>  ）<w>  》<w>  及<c>  相关<vn>  文件<n>  电报<n>  要求<n>  执行<v>  。<w>  \n",
      "<n>\n"
     ]
    }
   ],
   "source": [
    "# 加载名为lac的预训练模型\n",
    "lac = hub.Module(name=\"lac\")\n",
    "test_text = [kdml]\n",
    "\n",
    "# 设定分词的输入，其输入是一个句子集合\n",
    "inputs = {\"text\": test_text}\n",
    "\n",
    "# 调用模型进行分词操作，将结果放于results中\n",
    "results = lac.lexical_analysis(data=inputs)\n",
    "# 展示结果\n",
    "print('  '.join(w+'<'+t+'>' for w, t in zip(results[0]['word'], results[0]['tag'])))\n"
   ]
  },
  {
   "cell_type": "markdown",
   "metadata": {},
   "source": [
    "<table>\n",
    "                <thead><tr>\n",
    "<th>标签</th>\n",
    "<th>含义</th>\n",
    "<th>标签</th>\n",
    "<th>含义</th>\n",
    "<th>标签</th>\n",
    "<th>含义</th>\n",
    "<th>标签</th>\n",
    "<th>含义</th>\n",
    "</tr>\n",
    "</thead>\n",
    "                <tbody><tr>\n",
    "<td>n</td>\n",
    "<td>普通名词</td>\n",
    "<td>f</td>\n",
    "<td>方位名词</td>\n",
    "<td>s</td>\n",
    "<td>处所名词</td>\n",
    "<td>t</td>\n",
    "<td>时间</td>\n",
    "</tr>\n",
    "<tr>\n",
    "<td>nr</td>\n",
    "<td>人名</td>\n",
    "<td>ns</td>\n",
    "<td>地名</td>\n",
    "<td>nt</td>\n",
    "<td>机构名</td>\n",
    "<td>nw</td>\n",
    "<td>作品名</td>\n",
    "</tr>\n",
    "<tr>\n",
    "<td>nz</td>\n",
    "<td>其他专名</td>\n",
    "<td>v</td>\n",
    "<td>普通动词</td>\n",
    "<td>vd</td>\n",
    "<td>动副词</td>\n",
    "<td>vn</td>\n",
    "<td>名动词</td>\n",
    "</tr>\n",
    "<tr>\n",
    "<td>a</td>\n",
    "<td>形容词</td>\n",
    "<td>ad</td>\n",
    "<td>副形词</td>\n",
    "<td>an</td>\n",
    "<td>名形词</td>\n",
    "<td>d</td>\n",
    "<td>副词</td>\n",
    "</tr>\n",
    "<tr>\n",
    "<td>m</td>\n",
    "<td>数量词</td>\n",
    "<td>q</td>\n",
    "<td>量词</td>\n",
    "<td>r</td>\n",
    "<td>代词</td>\n",
    "<td>p</td>\n",
    "<td>介词</td>\n",
    "</tr>\n",
    "<tr>\n",
    "<td>c</td>\n",
    "<td>连词</td>\n",
    "<td>u</td>\n",
    "<td>助词</td>\n",
    "<td>xc</td>\n",
    "<td>其他虚词</td>\n",
    "<td>w</td>\n",
    "<td>标点符号</td>\n",
    "</tr>\n",
    "<tr>\n",
    "<td>PER</td>\n",
    "<td>人名</td>\n",
    "<td>LOC</td>\n",
    "<td>地名</td>\n",
    "<td>ORG</td>\n",
    "<td>机构名</td>\n",
    "<td>TIME</td>\n",
    "<td>时间</td>\n",
    "</tr>\n",
    "</tbody>\n",
    "            </table>"
   ]
  },
  {
   "cell_type": "code",
   "execution_count": null,
   "metadata": {},
   "outputs": [],
   "source": [
    "hub."
   ]
  }
 ],
 "metadata": {
  "kernelspec": {
   "display_name": "Python 3",
   "language": "python",
   "name": "python3"
  },
  "language_info": {
   "codemirror_mode": {
    "name": "ipython",
    "version": 3
   },
   "file_extension": ".py",
   "mimetype": "text/x-python",
   "name": "python",
   "nbconvert_exporter": "python",
   "pygments_lexer": "ipython3",
   "version": "3.6.10"
  }
 },
 "nbformat": 4,
 "nbformat_minor": 4
}
