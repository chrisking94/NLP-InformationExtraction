{
 "cells": [
  {
   "cell_type": "code",
   "execution_count": 4,
   "metadata": {},
   "outputs": [],
   "source": [
    "import stanfordnlp as sn\n",
    "from stanfordcorenlp import StanfordCoreNLP"
   ]
  },
  {
   "cell_type": "code",
   "execution_count": null,
   "metadata": {},
   "outputs": [],
   "source": [
    "nlp = StanfordCoreNLP(r'D:\\chris\\model\\', lang='zh')"
   ]
  },
  {
   "cell_type": "code",
   "execution_count": null,
   "metadata": {
    "scrolled": true
   },
   "outputs": [
    {
     "name": "stdout",
     "output_type": "stream",
     "text": [
      "Using the default treebank \"zh_gsd\" for language \"zh\".\n",
      "Would you like to download the models for: zh_gsd now? (Y/n)\n",
      "y\n",
      "\n",
      "Default download directory: C:\\Users\\xinxin\\stanfordnlp_resources\n",
      "Hit enter to continue or type an alternate directory.\n",
      "D:\\chris\\model\n",
      "\n",
      "Downloading models for: zh_gsd\n",
      "Download location: D:\\chris\\model\\zh_gsd_models.zip\n"
     ]
    },
    {
     "name": "stderr",
     "output_type": "stream",
     "text": [
      "\r",
      "  0%|                                                                                       | 0.00/234M [00:00<?, ?B/s]"
     ]
    }
   ],
   "source": [
    "sn.download('zh')"
   ]
  }
 ],
 "metadata": {
  "kernelspec": {
   "display_name": "Python 3",
   "language": "python",
   "name": "python3"
  },
  "language_info": {
   "codemirror_mode": {
    "name": "ipython",
    "version": 3
   },
   "file_extension": ".py",
   "mimetype": "text/x-python",
   "name": "python",
   "nbconvert_exporter": "python",
   "pygments_lexer": "ipython3",
   "version": "3.6.10"
  }
 },
 "nbformat": 4,
 "nbformat_minor": 4
}
